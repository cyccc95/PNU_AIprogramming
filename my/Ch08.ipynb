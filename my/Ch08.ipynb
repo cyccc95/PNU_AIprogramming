{
 "cells": [
  {
   "attachments": {},
   "cell_type": "markdown",
   "metadata": {},
   "source": [
    "### NumPy"
   ]
  },
  {
   "cell_type": "code",
   "execution_count": 2,
   "metadata": {},
   "outputs": [
    {
     "name": "stdout",
     "output_type": "stream",
     "text": [
      "[1 2 3]\n",
      "[[1 2]\n",
      " [3 4]]\n",
      "[[1 2 3 4 5]]\n",
      "[1. 2. 3.]\n",
      "3\n"
     ]
    },
    {
     "data": {
      "text/plain": [
       "array([[1, 2],\n",
       "       [3, 4]])"
      ]
     },
     "execution_count": 2,
     "metadata": {},
     "output_type": "execute_result"
    }
   ],
   "source": [
    "import numpy as np\n",
    "\n",
    "# One-dimensional array\n",
    "a = np.array([1, 2, 3])\n",
    "# Two-dimensional array\n",
    "b = np.array([[1, 2], [3, 4]])\n",
    "# To specify minimum number of dimensions\n",
    "c = np.array([1, 2, 3, 4, 5], ndmin = 2)\n",
    "# To specify desired data type for the array\n",
    "d = np.array([1, 2, 3], dtype = float)\n",
    "print(a)\n",
    "print(b)\n",
    "print(c)\n",
    "print(d)\n",
    "print(a[2])\n",
    "a\n",
    "b"
   ]
  },
  {
   "cell_type": "code",
   "execution_count": 4,
   "metadata": {},
   "outputs": [
    {
     "name": "stdout",
     "output_type": "stream",
     "text": [
      "[0 1 2 3 4]\n",
      "[3 5 7]\n",
      "[0. 0. 0. 0. 0.]\n",
      "[1. 1. 1. 1. 1.]\n"
     ]
    }
   ],
   "source": [
    "a = np.arange(5) # Array of range(5)\n",
    "b = np.arange(3, 9, 2) # From 3 to 9 in increments of 2\n",
    "c = np.zeros(5) # Array of five zeros (default type is float)\n",
    "d = np.ones(5) # Array of five ones (default type is float)\n",
    "print(a)\n",
    "print(b)\n",
    "print(c)\n",
    "print(d)"
   ]
  },
  {
   "cell_type": "code",
   "execution_count": 5,
   "metadata": {},
   "outputs": [
    {
     "name": "stdout",
     "output_type": "stream",
     "text": [
      "[[1. 0. 0.]\n",
      " [0. 1. 0.]\n",
      " [0. 0. 1.]]\n",
      "[[1. 0. 0. 0.]\n",
      " [0. 1. 0. 0.]\n",
      " [0. 0. 1. 0.]]\n",
      "[10.  12.5 15.  17.5 20. ]\n"
     ]
    }
   ],
   "source": [
    "a = np.eye(3) # Produces square identity matrix\n",
    "b = np.eye(3, 4) # Identity matrix of size 3 x 4\n",
    "# To produce an array of 5 elements equally spaced from\n",
    "# 10 to 20\n",
    "c = np.linspace(10, 20, 5)\n",
    "print(a)\n",
    "print(b)\n",
    "print(c)"
   ]
  },
  {
   "cell_type": "code",
   "execution_count": 6,
   "metadata": {},
   "outputs": [
    {
     "name": "stdout",
     "output_type": "stream",
     "text": [
      "[0 1 2 3 4 5]\n",
      "[[0 1]\n",
      " [2 3]\n",
      " [4 5]]\n",
      "5\n",
      "[1 3 5]\n",
      "(3, 2)\n",
      "6\n",
      "2\n",
      "[[0 2 4]\n",
      " [1 3 5]]\n",
      "[[0 1]\n",
      " [2 3]\n",
      " [4 5]]\n",
      "[0 1 2 3 4 5]\n"
     ]
    }
   ],
   "source": [
    "a = np.arange(6)\n",
    "print(a)\n",
    "b = a.reshape(3, 2) # Reshaped to 3 x 2\n",
    "print(b)\n",
    "print(b[2, 1])\n",
    "print(b[:, 1])\n",
    "print(np.shape(b)) # Array dimension as a tuple\n",
    "print(np.size(b)) # Total number of elements\n",
    "print(np.ndim(b)) # Number of dimensions\n",
    "print(np.transpose(b))   # Computes matrix transpose\n",
    "\n",
    "c = np.copy(b) # Makes a deep copy\n",
    "print(c)\n",
    "print(np.ravel(c)) # Makes the array one-dimensional"
   ]
  },
  {
   "cell_type": "code",
   "execution_count": 7,
   "metadata": {},
   "outputs": [
    {
     "name": "stdout",
     "output_type": "stream",
     "text": [
      "[[12 14]\n",
      " [16 18]]\n",
      "[[11 24]\n",
      " [39 56]]\n",
      "[[37 40]\n",
      " [85 92]]\n",
      "[[35 41]\n",
      " [81 95]]\n"
     ]
    }
   ],
   "source": [
    "a = np.array([[1, 2], [3, 4]])\n",
    "b = np.array([[11, 12], [13, 14]])\n",
    "print(a + b) # matrix addition\n",
    "print(a * b) # element-wise multiplication\n",
    "print(np.dot(a, b)) # matrix multiplication\n",
    "print(np.inner(a, b)) # inner product of row vectors"
   ]
  },
  {
   "cell_type": "code",
   "execution_count": 8,
   "metadata": {},
   "outputs": [
    {
     "name": "stdout",
     "output_type": "stream",
     "text": [
      "[-2.  2. -0.  1. 10.]\n",
      "[-2.  1. -1.  0. 10.]\n",
      "[-1.  2. -0.  1. 10.]\n"
     ]
    }
   ],
   "source": [
    "a = np.array([-1.7, 1.5, -0.2, 0.6, 10])\n",
    "b = np.around(a)\n",
    "c = np.floor(a)\n",
    "d = np.ceil(a)\n",
    "\n",
    "print(b)\n",
    "print(c)\n",
    "print(d)"
   ]
  },
  {
   "cell_type": "code",
   "execution_count": 9,
   "metadata": {},
   "outputs": [
    {
     "name": "stdout",
     "output_type": "stream",
     "text": [
      "[  1.   6. 123.   1.  26.]\n",
      "[  1.    5.6 123.    0.6  25.5]\n",
      "[  0.  10. 120.   0.  30.]\n"
     ]
    }
   ],
   "source": [
    "a = np.array([1.0, 5.55, 123, 0.567, 25.532])\n",
    "b = np.around(a)\n",
    "c = np.around(a, decimals= 1)\n",
    "d = np.around(a, decimals= -1) # default is 0\n",
    "\n",
    "print(b)\n",
    "print(c)\n",
    "print(d)"
   ]
  },
  {
   "cell_type": "code",
   "execution_count": 11,
   "metadata": {},
   "outputs": [
    {
     "name": "stdout",
     "output_type": "stream",
     "text": [
      "[3 3 2]\n",
      "[2 4 3]\n",
      "2\n",
      "[7 8 9]\n",
      "[8 7 9]\n"
     ]
    }
   ],
   "source": [
    "a = np.array([[3, 7, 5], [8, 4, 3], [2, 4, 9]])\n",
    "b = np.amin(a, 1) # Minimum element along the rows (axis=1)\n",
    "c = np.amin(a, 0) # Minimum element along the cols (axis=0)\n",
    "d = np.amin(a) # Minimum element in the given array\n",
    "e = np.amax(a, 1)\n",
    "f = np.amax(a, 0)\n",
    "print(b)\n",
    "print(c)\n",
    "print(d)\n",
    "print(e)\n",
    "print(f)"
   ]
  },
  {
   "cell_type": "code",
   "execution_count": 12,
   "metadata": {},
   "outputs": [
    {
     "name": "stdout",
     "output_type": "stream",
     "text": [
      "2.5\n",
      "1.118033988749895\n",
      "1.25\n"
     ]
    }
   ],
   "source": [
    "a = np.array([1,2,3,4])\n",
    "b = np.average(a)\n",
    "c = np.std(a) # Standard deviation\n",
    "d = np.var(a) # Variance\n",
    "\n",
    "print(b)\n",
    "print(c)\n",
    "print(d)"
   ]
  },
  {
   "cell_type": "code",
   "execution_count": 13,
   "metadata": {},
   "outputs": [
    {
     "name": "stdout",
     "output_type": "stream",
     "text": [
      "[[0.38915668 0.59198579]\n",
      " [0.8823336  0.39123038]\n",
      " [0.2939744  0.23658371]]\n",
      "[[5 8 5 3]\n",
      " [8 4 6 4]]\n"
     ]
    }
   ],
   "source": [
    "# To produce a 3 x 2 matrix of random numbers uniformly\n",
    "# distributed between 0 and 1\n",
    "b = np.random.rand(3, 2)\n",
    "# To produce a 2 x 4 matrix of random integers uniformly\n",
    "# distributed in range(3, 9)\n",
    "c = np.random.randint(3, 9, size=(2,4))\n",
    "\n",
    "print(b)\n",
    "print(c)"
   ]
  },
  {
   "cell_type": "code",
   "execution_count": 16,
   "metadata": {},
   "outputs": [
    {
     "name": "stdout",
     "output_type": "stream",
     "text": [
      "[[-2.   1. ]\n",
      " [ 1.5 -0.5]]\n",
      "[[ 9. ]\n",
      " [-6.5]]\n",
      "-2.0000000000000004\n",
      "(array([-0.37228132,  5.37228132]), array([[-0.82456484, -0.41597356],\n",
      "       [ 0.56576746, -0.90937671]]))\n"
     ]
    }
   ],
   "source": [
    "a = np.array([[1,2],[3,4]])\n",
    "b = np.array([[-4],[1]])\n",
    "inv_a = np.linalg.inv(a) # inverse of a\n",
    "c = np.linalg.solve(a, b) # compute x such that ax=b\n",
    "d = np.linalg.det(a) # determinant of a\n",
    "e = np.linalg.eig(a) # eigenvalues and eigenvectors of a\n",
    "\n",
    "print(inv_a)\n",
    "print(c)\n",
    "print(d)\n",
    "print(e)"
   ]
  },
  {
   "attachments": {},
   "cell_type": "markdown",
   "metadata": {},
   "source": [
    "### Matplotlib"
   ]
  },
  {
   "cell_type": "code",
   "execution_count": 17,
   "metadata": {},
   "outputs": [
    {
     "data": {
      "image/png": "[encoded data removed]",
      "text/plain": [
       "<Figure size 640x480 with 1 Axes>"
      ]
     },
     "metadata": {},
     "output_type": "display_data"
    }
   ],
   "source": [
    "from matplotlib import pyplot as plt\n",
    "\n",
    "plt.plot([1, 2, 3], [1, 4, 9]) # Values for x and y axes\n",
    "plt.plot([2, 3, 4], [5, 6, 7]) # Should be of the same lengths\n",
    "plt.xlabel('Sequence')\n",
    "plt.ylabel('Time(sec)')\n",
    "plt.title('Experimental Result')\n",
    "plt.legend(['Mouse', 'Cat'])\n",
    "plt.show()"
   ]
  },
  {
   "cell_type": "code",
   "execution_count": null,
   "metadata": {},
   "outputs": [],
   "source": [
    "# Search performance by First-choice hill climbing for TSP\n",
    "x = np.arange(14140) # There are 14140 values to be plotted\n",
    "y = [] # Y values will be read in from a file\n",
    "infile = open(\"firstChoice.txt\", 'r') # Result file\n",
    "for line in infile:\n",
    "  y.append(float(line))\n",
    "infile.close()\n",
    "\n",
    "plt.plot(x, y)\n",
    "plt.xlabel('Number of Evaluations')\n",
    "plt.ylabel('Tour Cost')\n",
    "plt.title('TSP-100 by First-Choice Hill Climbing')\n",
    "plt.show()"
   ]
  },
  {
   "cell_type": "code",
   "execution_count": null,
   "metadata": {},
   "outputs": [],
   "source": [
    "x1 = np.arange(14140) # First-choice hill climbing\n",
    "y1 = []\n",
    "infile = open('fisrtChoice.txt', 'r')\n",
    "for line in infile:\n",
    "  y1.append(float(line))\n",
    "infile.close()\n",
    "\n",
    "x2 = np.arange(61500) # Simulated annealing\n",
    "y2 = []\n",
    "infile = open('SA.txt', 'r')\n",
    "for line in infile:\n",
    "  y2.append(float(line))\n",
    "infile.close()\n",
    "\n",
    "plt.plot(x1, y1)\n",
    "plt.plot(x2, y2)\n",
    "plt.xlabel('Number of Evalutaions')\n",
    "plt.ylabel('Tour Cost')\n",
    "plt.title('Search Performance (TSP-100)')\n",
    "\n",
    "# Legend elements are in the order of the above plots\n",
    "plt.legend(['First-Choice HC', 'Simulated Annealing'])\n",
    "plt.show()"
   ]
  },
  {
   "cell_type": "code",
   "execution_count": 19,
   "metadata": {},
   "outputs": [
    {
     "data": {
      "image/png": "[encoded data removed]",
      "text/plain": [
       "<Figure size 640x480 with 1 Axes>"
      ]
     },
     "metadata": {},
     "output_type": "display_data"
    }
   ],
   "source": [
    "# Plot for a Gaussian function\n",
    "# def gaussian(x):\n",
    "#   return np.exp(-(0.5 - x)**2/1.5)\n",
    "\n",
    "gaussian = lambda x: np.exp(-(0.5 - x)**2/1.5)\n",
    "\n",
    "x = np.arange(-2, 2.5, 0.01)\n",
    "y = gaussian(x) # Array argument produces array output\n",
    "\n",
    "plt.plot(x, y)\n",
    "plt.xlabel('x values')\n",
    "plt.ylabel('exp(-(0.5-x)**2/1.5)')\n",
    "plt.title('Gaussian Function')\n",
    "plt.show()"
   ]
  }
 ],
 "metadata": {
  "kernelspec": {
   "display_name": "base",
   "language": "python",
   "name": "python3"
  },
  "language_info": {
   "codemirror_mode": {
    "name": "ipython",
    "version": 3
   },
   "file_extension": ".py",
   "mimetype": "text/x-python",
   "name": "python",
   "nbconvert_exporter": "python",
   "pygments_lexer": "ipython3",
   "version": "3.9.13"
  },
  "orig_nbformat": 4,
  "vscode": {
   "interpreter": {
    "hash": "f22877bf9927aba00f41d070cb31798bd248ba61643142f28b17eabbaebc8b47"
   }
  }
 },
 "nbformat": 4,
 "nbformat_minor": 2
}
