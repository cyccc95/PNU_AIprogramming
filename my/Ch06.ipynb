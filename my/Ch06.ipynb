{
 "cells": [
  {
   "attachments": {},
   "cell_type": "markdown",
   "metadata": {},
   "source": [
    "### Exception Handling"
   ]
  },
  {
   "cell_type": "code",
   "execution_count": 2,
   "metadata": {},
   "outputs": [
    {
     "name": "stdout",
     "output_type": "stream",
     "text": [
      "\n",
      "You dud not respond with an interger value.\n",
      "We will assume your answer is zero.\n",
      "Tax credit:  0\n"
     ]
    }
   ],
   "source": [
    "try:\n",
    "  numDependents = int(input(\"Enter number of dependects: \"))\n",
    "except ValueError:\n",
    "  print(\"\\nYou dud not respond with an interger value.\")\n",
    "  print(\"We will assume your answer is zero.\")\n",
    "  numDependents = 0\n",
    "taxCredit = 1000 * numDependents\n",
    "print(\"Tax credit: \", taxCredit)"
   ]
  },
  {
   "cell_type": "code",
   "execution_count": 3,
   "metadata": {},
   "outputs": [
    {
     "name": "stdout",
     "output_type": "stream",
     "text": [
      "[Errno 2] No such file or directory: 'Numbers.txt'\n"
     ]
    }
   ],
   "source": [
    "def main():\n",
    "  ## Display the reciprocal of a number in a file\n",
    "  try:\n",
    "    fileName = input(\"Enter the name of a file: \")\n",
    "    infile = open(fileName, 'r')\n",
    "    num = float(infile.readline())\n",
    "    print(1 / num)\n",
    "  except FileNotFoundError as exc1:\n",
    "    print(exc1)\n",
    "  except TypeError as exc2:\n",
    "    print(exc2)\n",
    "\n",
    "main()"
   ]
  },
  {
   "cell_type": "code",
   "execution_count": 4,
   "metadata": {},
   "outputs": [
    {
     "name": "stdout",
     "output_type": "stream",
     "text": [
      "Unacceptable letter was entered.\n",
      "bravo\n"
     ]
    }
   ],
   "source": [
    "def main():\n",
    "  ## Request that the user enter a proper response\n",
    "  phoneticAlpha = {'a':\"alpha\", 'b':\"bravo\", 'c':\"charlie\"}\n",
    "  while True:\n",
    "    try:\n",
    "      letter = input(\"Enter a, b, or c: \")\n",
    "      print(phoneticAlpha[letter])\n",
    "      break\n",
    "    except KeyError:\n",
    "      print(\"Unacceptable letter was entered.\")\n",
    "\n",
    "main()"
   ]
  },
  {
   "cell_type": "code",
   "execution_count": null,
   "metadata": {},
   "outputs": [],
   "source": [
    "def main():\n",
    "  ## Calculate the average and total of the numbers\n",
    "  ## in a file\n",
    "  total = 0\n",
    "  count = 0\n",
    "  foundFlag = True\n",
    "  try:\n",
    "    infile = open(\"Numbers.txt\", 'r')\n",
    "  except FileNotFoundError:\n",
    "    print(\"File not found.\")\n",
    "    foundFlag = False\n",
    "  if foundFlag:\n",
    "    try:\n",
    "      for line in infile:\n",
    "        count += 1\n",
    "        total += float(line)\n",
    "      print(\"average:\", total / count)\n",
    "    except ValueError:\n",
    "      print(\"Line\", count, \"could not be converted to a float\")\n",
    "      if count > 1:\n",
    "        print(\"Average so far:\", total / (count - 1))\n",
    "        print(\"Total so far:\", total)\n",
    "      else:\n",
    "        print(\"No average can be calculated.\")\n",
    "    except ZeroDivisionError:\n",
    "      print(\"File was empty.\")\n",
    "    else:\n",
    "      print(\"Total:\", total)\n",
    "    finally:\n",
    "      infile.close()\n",
    "    "
   ]
  },
  {
   "attachments": {},
   "cell_type": "markdown",
   "metadata": {},
   "source": [
    "### Selecting Random Values"
   ]
  },
  {
   "cell_type": "code",
   "execution_count": 9,
   "metadata": {},
   "outputs": [
    {
     "name": "stdout",
     "output_type": "stream",
     "text": [
      "fire\n",
      "['air', 'fire']\n",
      "['fire', 'water', 'air', 'earth']\n",
      "3\n"
     ]
    }
   ],
   "source": [
    "import random\n",
    "\n",
    "elements = [\"earth\", \"air\", \"fire\", \"water\"]\n",
    "print(random.choice(elements))\n",
    "print(random.sample(elements, 2))\n",
    "random.shuffle(elements)\n",
    "print(elements)\n",
    "print(random.randint(1, 5)) # random integer from 1 to 5"
   ]
  },
  {
   "cell_type": "code",
   "execution_count": null,
   "metadata": {},
   "outputs": [],
   "source": [
    "import random\n",
    "import pickle\n",
    "\n",
    "infile = open(\"DeckOfCardList.dat\", 'rb')\n",
    "deckOfCards = pickle.load(infile)\n",
    "infile.close()\n",
    "print(deckOfCards)\n",
    "print()\n",
    "pokerHand = random.sample(deckOfCards, 5)\n",
    "print(pokerHand)"
   ]
  },
  {
   "cell_type": "code",
   "execution_count": 11,
   "metadata": {},
   "outputs": [
    {
     "name": "stdout",
     "output_type": "stream",
     "text": [
      "Orange   Melon   Cherries   "
     ]
    }
   ],
   "source": [
    "## Items are selected from a list of six items\n",
    "## Selection probabilities are made diffenrent using\n",
    "## if-elif-else statement\n",
    "import random\n",
    "\n",
    "def main():\n",
    "  for i in range(3):\n",
    "    outcome = spinWheel()\n",
    "    print(outcome, end=\"   \")\n",
    "\n",
    "def spinWheel():\n",
    "  n = random.randint(1, 20)\n",
    "  if n > 15:\n",
    "    return \"Cherries\"\n",
    "  elif n > 10:\n",
    "    return \"Orange\"\n",
    "  elif n > 5:\n",
    "    return \"Plum\"\n",
    "  elif n > 2:\n",
    "    return \"Melon\"\n",
    "  elif n > 1:\n",
    "    return \"Bell\"\n",
    "  else:\n",
    "    return \"Bar\"\n",
    "\n",
    "main()"
   ]
  },
  {
   "attachments": {},
   "cell_type": "markdown",
   "metadata": {},
   "source": [
    "### Swapping"
   ]
  },
  {
   "cell_type": "code",
   "execution_count": null,
   "metadata": {},
   "outputs": [],
   "source": [
    "## in most programming languages\n",
    "temp = x\n",
    "x = y\n",
    "y = temp\n",
    "\n",
    "## Python\n",
    "x, y = y, x"
   ]
  },
  {
   "attachments": {},
   "cell_type": "markdown",
   "metadata": {},
   "source": [
    "### Shortcuts"
   ]
  },
  {
   "cell_type": "code",
   "execution_count": null,
   "metadata": {},
   "outputs": [],
   "source": [
    "# Assignment shortcut\n",
    "a = 0\n",
    "b = 0\n",
    "c = 0\n",
    "a = b = c = 0\n",
    "\n",
    "x = L[0]\n",
    "y = L[1]\n",
    "z = L[2]\n",
    "x, y, z = L\n",
    "\n",
    "x, y, z = 1, 2, 3\n",
    "\n",
    "x, y, z = y, z, x\n",
    "\n",
    "# Shortcuts with condition\n",
    "if a == 0 and b == 0 and c == 0:\n",
    "if a == b == c == 0:\n",
    "\n",
    "if 1 < a and a < b and b < 5:\n",
    "if 1 < a < b < 5:"
   ]
  },
  {
   "attachments": {},
   "cell_type": "markdown",
   "metadata": {},
   "source": [
    "### Recursion"
   ]
  },
  {
   "cell_type": "code",
   "execution_count": 12,
   "metadata": {},
   "outputs": [
    {
     "name": "stdout",
     "output_type": "stream",
     "text": [
      "8\n"
     ]
    }
   ],
   "source": [
    "def power(r, n):\n",
    "  if n == 1:\n",
    "    return r\n",
    "  else:\n",
    "    return r * power(r, n - 1)\n",
    "\n",
    "print(power(2, 3))"
   ]
  },
  {
   "cell_type": "code",
   "execution_count": null,
   "metadata": {},
   "outputs": [],
   "source": [
    "def isPalindrome(word):\n",
    "  # Convert all letters to lowercase\n",
    "  word = word.lower()\n",
    "  # Words of zero or one letters are palindromes\n",
    "  if len(word) <= 1:\n",
    "    return True\n",
    "  elif word[0] == word[-1] # First and last letters match\n",
    "    # remove first and last letters\n",
    "    word = word[1:-1]\n",
    "    return isPalindrome(word)\n",
    "  else:\n",
    "    return False"
   ]
  }
 ],
 "metadata": {
  "kernelspec": {
   "display_name": "base",
   "language": "python",
   "name": "python3"
  },
  "language_info": {
   "codemirror_mode": {
    "name": "ipython",
    "version": 3
   },
   "file_extension": ".py",
   "mimetype": "text/x-python",
   "name": "python",
   "nbconvert_exporter": "python",
   "pygments_lexer": "ipython3",
   "version": "3.9.13"
  },
  "orig_nbformat": 4,
  "vscode": {
   "interpreter": {
    "hash": "f22877bf9927aba00f41d070cb31798bd248ba61643142f28b17eabbaebc8b47"
   }
  }
 },
 "nbformat": 4,
 "nbformat_minor": 2
}
