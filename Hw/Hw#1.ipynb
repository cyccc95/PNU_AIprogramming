{
 "cells": [
  {
   "cell_type": "code",
   "execution_count": 1,
   "metadata": {},
   "outputs": [
    {
     "name": "stdout",
     "output_type": "stream",
     "text": [
      "What you don't owe won't hurt you.\n"
     ]
    }
   ],
   "source": [
    "## Exercise 2.2\n",
    "# 110. Word Replacement\n",
    "sentence = input('Enter a sentence: ')\n",
    "wordToReplace = input('Enter word to replace: ')\n",
    "word = input('Enter replacement word: ')\n",
    "print(sentence.replace(wordToReplace, word))"
   ]
  },
  {
   "cell_type": "code",
   "execution_count": 3,
   "metadata": {},
   "outputs": [
    {
     "name": "stdout",
     "output_type": "stream",
     "text": [
      "Present value: $7,903.15\n"
     ]
    }
   ],
   "source": [
    "## Excercise 2.3\n",
    "# 58. Present Value\n",
    "futureValue = int(input('Enter future value: '))\n",
    "interestRate = float(input('Enter interest rate (as %): '))\n",
    "years = int(input('Enter number of years: '))\n",
    "presentValue = futureValue / (1 + (interestRate / 100)) ** years\n",
    "print('Present value: ${0:,.2f}'.format(presentValue))"
   ]
  },
  {
   "cell_type": "code",
   "execution_count": 71,
   "metadata": {},
   "outputs": [
    {
     "name": "stdout",
     "output_type": "stream",
     "text": [
      "The word in Pig Latin is bay\n"
     ]
    }
   ],
   "source": [
    "## Exercise 3.2\n",
    "# 32. Pig Latin\n",
    "word = input('Enter word to translate: ').lower()\n",
    "\n",
    "if (word[0] in 'aeiou'):\n",
    "  print('The word in Pig Latin is', word +'way')\n",
    "else:\n",
    "  cnt = 0\n",
    "  while (word[0] not in 'aeiou'):\n",
    "    temp = word[0]\n",
    "    word = word.replace(temp, '') + temp\n",
    "    cnt += 1\n",
    "    if cnt == len(word):\n",
    "      break\n",
    "  print('The word in Pig Latin is', word +'ay') \n"
   ]
  },
  {
   "cell_type": "code",
   "execution_count": 73,
   "metadata": {},
   "outputs": [
    {
     "name": "stdout",
     "output_type": "stream",
     "text": [
      "Meters traveled: 44.82\n"
     ]
    }
   ],
   "source": [
    "## Exercise 3.3\n",
    "# 16. Bouncing Ball\n",
    "coe = float(input('Enter coefficient of restitution: '))\n",
    "height = int(input('Enter initial height in meters: '))\n",
    "bounces = int(input('Number of bounces: '))\n",
    "answer = height\n",
    "for x in range(bounces - 1):\n",
    "  height *= coe\n",
    "  answer += (height * 2)\n",
    "print('Meters traveled: {0:.2f}'.format(answer))"
   ]
  },
  {
   "cell_type": "code",
   "execution_count": 76,
   "metadata": {},
   "outputs": [
    {
     "name": "stdout",
     "output_type": "stream",
     "text": [
      "27,000,001\n"
     ]
    }
   ],
   "source": [
    "## Exercises 3.4\n",
    "# 82. Digit Sum\n",
    "sum = 0\n",
    "for x in range(1, 1000001):\n",
    "  while x > 0:\n",
    "    sum += (x % 10)\n",
    "    x //= 10\n",
    "print(format(sum, ','))"
   ]
  }
 ],
 "metadata": {
  "kernelspec": {
   "display_name": "base",
   "language": "python",
   "name": "python3"
  },
  "language_info": {
   "codemirror_mode": {
    "name": "ipython",
    "version": 3
   },
   "file_extension": ".py",
   "mimetype": "text/x-python",
   "name": "python",
   "nbconvert_exporter": "python",
   "pygments_lexer": "ipython3",
   "version": "3.9.13"
  },
  "orig_nbformat": 4,
  "vscode": {
   "interpreter": {
    "hash": "f22877bf9927aba00f41d070cb31798bd248ba61643142f28b17eabbaebc8b47"
   }
  }
 },
 "nbformat": 4,
 "nbformat_minor": 2
}
