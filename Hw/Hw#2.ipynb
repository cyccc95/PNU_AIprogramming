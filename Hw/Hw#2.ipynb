{
 "cells": [
  {
   "cell_type": "code",
   "execution_count": 53,
   "metadata": {},
   "outputs": [
    {
     "name": "stdout",
     "output_type": "stream",
     "text": [
      "First word: 1561\n",
      "Last word: 1561\n"
     ]
    }
   ],
   "source": [
    "## Exercises 2.4\n",
    "# 102. Analyze a Sentence\n",
    "str = input('Enter a sentence: ')\n",
    "strList = str.split(' ')\n",
    "print('First word:', strList[0])\n",
    "print('Last word:', strList[len(strList) - 1].replace('.',''))"
   ]
  },
  {
   "cell_type": "code",
   "execution_count": 55,
   "metadata": {},
   "outputs": [
    {
     "name": "stdout",
     "output_type": "stream",
     "text": [
      "Middle name: n\n"
     ]
    }
   ],
   "source": [
    "# 104. Name\n",
    "str = input('Enter a 3-part name: ')\n",
    "strList = str.split(' ')\n",
    "print('Middle name:',strList[1])"
   ]
  },
  {
   "cell_type": "code",
   "execution_count": 56,
   "metadata": {},
   "outputs": [
    {
     "name": "stdout",
     "output_type": "stream",
     "text": [
      "Median: 6.0\n"
     ]
    }
   ],
   "source": [
    "## Exercises 3.4\n",
    "# 66. Median\n",
    "num = int(input('How many numbers do you want to enter? '))\n",
    "numList = []\n",
    "for i in range(0, num):\n",
    "  numList.append(int(input('Enter a number: ')))\n",
    "numList.sort()\n",
    "\n",
    "median = 0\n",
    "if len(numList) % 2 != 0:\n",
    "  sum = 0\n",
    "  for i in numList:\n",
    "    sum += i\n",
    "  median = sum / len(numList)\n",
    "  print('Median:',median)\n",
    "else:\n",
    "  median = (numList[int(len(list) / 2)] + numList[int(len(numList) / 2 - 1)]) / 2\n",
    "  print('Median:',median)"
   ]
  },
  {
   "cell_type": "code",
   "execution_count": 57,
   "metadata": {},
   "outputs": [
    {
     "name": "stdout",
     "output_type": "stream",
     "text": [
      "Crossed out letters: a d s \n",
      "Ramaining letters: s a \n"
     ]
    }
   ],
   "source": [
    "# 74. A Puzzle\n",
    "str = input('Starting word:')\n",
    "cross = ''\n",
    "remain = ''\n",
    "\n",
    "for i in range(0, len(str)):\n",
    "  if i % 2 == 0:\n",
    "    cross += (str[i] + ' ')\n",
    "  else:\n",
    "    remain += (str[i] + ' ')\n",
    "\n",
    "print('Crossed out letters:',cross)\n",
    "print('Ramaining letters:',remain)\n"
   ]
  },
  {
   "cell_type": "code",
   "execution_count": 19,
   "metadata": {},
   "outputs": [
    {
     "name": "stdout",
     "output_type": "stream",
     "text": [
      "special number\n",
      "Since 4 time 2178 is 8712,\n",
      "the special number is 2178.\n"
     ]
    }
   ],
   "source": [
    "# 78. Special Number\n",
    "print('special number')\n",
    "for i in range(1000, 10000):\n",
    "  strNum = str(i)[::-1]\n",
    "  # strNum = list(str(i))\n",
    "  # strNum.reverse()\n",
    "  # strNum = int(''.join(strNum))\n",
    "  if i * 4 == int(strNum):\n",
    "    print('Since 4 time {} is {},'.format(i, strNum))\n",
    "    print('the special number is {}.'.format(i))\n"
   ]
  },
  {
   "cell_type": "code",
   "execution_count": 21,
   "metadata": {},
   "outputs": [
    {
     "name": "stdout",
     "output_type": "stream",
     "text": [
      "13\n"
     ]
    }
   ],
   "source": [
    "### Exercise 4.1\n",
    "# 26. Count Function\n",
    "def my_count(str_orig, str_sub):\n",
    "  l_orig = len(str_orig)\n",
    "  l_sub = len(str_sub)\n",
    "\n",
    "  if l_sub == 0:\n",
    "    return l_orig + 1\n",
    "\n",
    "  idx = 0\n",
    "  cnt = 0\n",
    "  while idx <= l_orig - l_sub:\n",
    "    p_orig = str_orig[idx:idx+l_sub]\n",
    "\n",
    "    if p_orig == str_sub:\n",
    "      cnt += 1\n",
    "      idx += l_sub\n",
    "    else:\n",
    "      idx += 1\n",
    "  return cnt\n",
    "\n",
    "print(my_count('abcdffeeffee', ''))\n"
   ]
  },
  {
   "cell_type": "code",
   "execution_count": 47,
   "metadata": {},
   "outputs": [
    {
     "name": "stdout",
     "output_type": "stream",
     "text": [
      "New salary for John Doe: $50,160.00\n"
     ]
    }
   ],
   "source": [
    "# 30. Pay Raise\n",
    "firstName = input('Enter first name:')\n",
    "lastName = input('Enter last name:')\n",
    "currentSalary = float(input('Enter current salary:'))\n",
    "\n",
    "def newSalary(currentSalary):\n",
    "  if currentSalary < 40000:\n",
    "    return currentSalary * 105 / 100\n",
    "  else:\n",
    "    return currentSalary + 2000 + (currentSalary - 40000) * 2 / 100\n",
    "\n",
    "print('New salary for {0} {1}: ${2:,.2f}'.format(firstName,lastName,newSalary(currentSalary)))"
   ]
  }
 ],
 "metadata": {
  "kernelspec": {
   "display_name": "base",
   "language": "python",
   "name": "python3"
  },
  "language_info": {
   "codemirror_mode": {
    "name": "ipython",
    "version": 3
   },
   "file_extension": ".py",
   "mimetype": "text/x-python",
   "name": "python",
   "nbconvert_exporter": "python",
   "pygments_lexer": "ipython3",
   "version": "3.9.13"
  },
  "orig_nbformat": 4,
  "vscode": {
   "interpreter": {
    "hash": "f22877bf9927aba00f41d070cb31798bd248ba61643142f28b17eabbaebc8b47"
   }
  }
 },
 "nbformat": 4,
 "nbformat_minor": 2
}
