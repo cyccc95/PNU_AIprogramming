{
 "cells": [
  {
   "attachments": {},
   "cell_type": "markdown",
   "metadata": {},
   "source": [
    "### Operators"
   ]
  },
  {
   "cell_type": "code",
   "execution_count": 12,
   "metadata": {},
   "outputs": [
    {
     "data": {
      "text/plain": [
       "False"
      ]
     },
     "execution_count": 12,
     "metadata": {},
     "output_type": "execute_result"
    }
   ],
   "source": [
    "3 + 5 # Plus\n",
    "3 + 5.0\n",
    "\n",
    "50 - 24 # Minus\n",
    "-5.2\n",
    "\n",
    "2 * 3 # Multiply\n",
    "2.0 * 3\n",
    "\n",
    "3 ** 4 # Power\n",
    "\n",
    "15 / 3 # Float division\n",
    "13 // 3 # Integer division resulting in an integer\n",
    "3.5 // 2 # Integer division resulting in a float\n",
    "\n",
    "13 % 3 # Modulo (returns the remainder of the division)\n",
    "-25.5 % 2.25\n",
    "\n",
    "2 << 2 # Left shift\n",
    "11 >> 1 # Right shift\n",
    "5 & 3 # Bitwise AND\n",
    "5 | 3 # Bitwise OR\n",
    "5 ^ 3 # Bitwise XOR\n",
    "~ 5 # Bitwise Invert (bit-wise inversion of x is -(x+1))\n",
    "\n",
    "5 < 3 # Less Than\n",
    "3 < 5\n",
    "3 < 5 < 7\n",
    "\n",
    "5 > 3 # Greater Than\n",
    "\n",
    "x = 3\n",
    "y = 6\n",
    "x <= y # Less Than or Equal To\n",
    "\n",
    "x = 4\n",
    "y = 3\n",
    "x >= y # Greater Than or Equal To\n",
    "\n",
    "2 == 2 # Equal To\n",
    "'str' == 'stR'\n",
    "'str' == 'str'\n",
    "\n",
    "2 != 3 # Not Equal To\n",
    "\n",
    "x = True\n",
    "not x # Boolean Not\n",
    "\n",
    "x = False\n",
    "y = True\n",
    "x and y # Boolean AND\n",
    "\n",
    "x = False\n",
    "y = True\n",
    "x or y # Boolean OR\n",
    "\n",
    "l = 10\n",
    "m = 5\n",
    "n = 0\n",
    "(n != 0) and (l == (m / n))"
   ]
  },
  {
   "cell_type": "code",
   "execution_count": 15,
   "metadata": {},
   "outputs": [
    {
     "name": "stdout",
     "output_type": "stream",
     "text": [
      "5\n",
      "8\n"
     ]
    }
   ],
   "source": [
    "a = 2\n",
    "a = a + 3\n",
    "print(a)\n",
    "\n",
    "a += 3\n",
    "print(a)"
   ]
  },
  {
   "attachments": {},
   "cell_type": "markdown",
   "metadata": {},
   "source": [
    "### Expressions"
   ]
  },
  {
   "cell_type": "code",
   "execution_count": 17,
   "metadata": {},
   "outputs": [
    {
     "name": "stdout",
     "output_type": "stream",
     "text": [
      "Area is 10\n",
      "Perimeter is 14\n"
     ]
    }
   ],
   "source": [
    "length = 5\n",
    "breadth = 2\n",
    "\n",
    "area = length * breadth\n",
    "\n",
    "print('Area is', area)\n",
    "print('Perimeter is', 2 * (length + breadth))"
   ]
  },
  {
   "attachments": {},
   "cell_type": "markdown",
   "metadata": {},
   "source": [
    "### Decision Structures"
   ]
  },
  {
   "cell_type": "code",
   "execution_count": 20,
   "metadata": {},
   "outputs": [
    {
     "name": "stdout",
     "output_type": "stream",
     "text": [
      "No, it is a little higher than that\n",
      "Done\n"
     ]
    }
   ],
   "source": [
    "number = 23\n",
    "guess = int(input('Enter an integer: '))\n",
    "\n",
    "if guess == number:\n",
    "  # New block starts here\n",
    "  print('Congratulations, you quessed it.')\n",
    "  print('(but you do not win any prizes!')\n",
    "  # New block ends here\n",
    "else:\n",
    "  if guess < number:\n",
    "    print('No, it is a little higher than that')\n",
    "  else:\n",
    "    print('No, it is a little lower than that')\n",
    "\n",
    "print('Done')"
   ]
  },
  {
   "cell_type": "code",
   "execution_count": 21,
   "metadata": {},
   "outputs": [
    {
     "name": "stdout",
     "output_type": "stream",
     "text": [
      "The largest number is 7.\n"
     ]
    }
   ],
   "source": [
    "# Find the largest of three numbers\n",
    "firstNumber = eval(input('Enter the first number: '))\n",
    "secondNumber = eval(input('Enter the second number: '))\n",
    "thirdNumber = eval(input('Enter the third number: '))\n",
    "\n",
    "# Determine and display the largest value\n",
    "largest = firstNumber\n",
    "if secondNumber > largest:\n",
    "  largest = secondNumber\n",
    "if thirdNumber > largest:\n",
    "  largest = thirdNumber\n",
    "print('The largest number is', str(largest) + '.')\n"
   ]
  },
  {
   "attachments": {},
   "cell_type": "markdown",
   "metadata": {},
   "source": [
    "### The while Loop"
   ]
  },
  {
   "cell_type": "code",
   "execution_count": 22,
   "metadata": {},
   "outputs": [
    {
     "name": "stdout",
     "output_type": "stream",
     "text": [
      "No, it is a little lower than that.\n",
      "No, it is a little higher than that.\n",
      "Congraturations, you guessed it.\n",
      "The while loop is over.\n",
      "Done\n"
     ]
    }
   ],
   "source": [
    "number = 23\n",
    "running = True\n",
    "\n",
    "while running:\n",
    "  guess = int(input('Enter an integer: '))\n",
    "  if guess == number:\n",
    "    print('Congraturations, you guessed it.')\n",
    "    running = False\n",
    "  elif guess < number:\n",
    "    print('No, it is a little higher than that.')\n",
    "  else:\n",
    "    print('No, it is a little lower than that.')\n",
    "else:\n",
    "  print('The while loop is over.')\n",
    "print('Done')"
   ]
  },
  {
   "cell_type": "code",
   "execution_count": 23,
   "metadata": {},
   "outputs": [
    {
     "name": "stdout",
     "output_type": "stream",
     "text": [
      "(Enter -1 to terminate entering numbers.)\n",
      "Minimum:  3\n",
      "Maximum:  7\n",
      "Average:  4.666666666666667\n"
     ]
    }
   ],
   "source": [
    "# Find the minimun, maximum, and average of a sequence of Integers\n",
    "count = 0\n",
    "total = 0\n",
    "\n",
    "print('(Enter -1 to terminate entering numbers.)')\n",
    "num = int(input('Enter a nonnegative integer: '))\n",
    "min = num\n",
    "max = num\n",
    "\n",
    "while num != -1:\n",
    "  count += 1\n",
    "  total += num\n",
    "  if num < min:\n",
    "    min = num\n",
    "  if num > max:\n",
    "    max = num\n",
    "  num = int(input('Enter a nonnegative integer: '))\n",
    "\n",
    "if count > 0:\n",
    "  print('Minimum: ', min)\n",
    "  print('Maximum: ', max)\n",
    "  print('Average: ', total / count)\n",
    "else:\n",
    "  print('No nonnegative integers were entered.')\n"
   ]
  },
  {
   "attachments": {},
   "cell_type": "markdown",
   "metadata": {},
   "source": [
    "### The for Loop"
   ]
  },
  {
   "cell_type": "code",
   "execution_count": 24,
   "metadata": {},
   "outputs": [
    {
     "name": "stdout",
     "output_type": "stream",
     "text": [
      "1\n",
      "2\n",
      "3\n",
      "4\n",
      "The for loop is over\n"
     ]
    }
   ],
   "source": [
    "for i in range(1, 5):\n",
    "  print(i)\n",
    "else:\n",
    "  print('The for loop is over')\n"
   ]
  },
  {
   "cell_type": "code",
   "execution_count": 27,
   "metadata": {},
   "outputs": [
    {
     "name": "stdout",
     "output_type": "stream",
     "text": [
      "*\n",
      "**\n",
      "***\n",
      "****\n",
      "*****\n"
     ]
    }
   ],
   "source": [
    "numberOfRows = int(input('Enter a number from 1 to 20: '))\n",
    "for i in range(numberOfRows):\n",
    "  for j in range(i + 1):\n",
    "    print('*', end='')\n",
    "  print()"
   ]
  },
  {
   "cell_type": "code",
   "execution_count": 28,
   "metadata": {},
   "outputs": [
    {
     "name": "stdout",
     "output_type": "stream",
     "text": [
      "The reversed word is suez.\n"
     ]
    }
   ],
   "source": [
    "word = input('Enter a word: ')\n",
    "reversedWord = ''\n",
    "for ch in word:\n",
    "  reversedWord = ch + reversedWord\n",
    "print('The reversed word is ' + reversedWord + '.')"
   ]
  },
  {
   "attachments": {},
   "cell_type": "markdown",
   "metadata": {},
   "source": [
    "### The break Statement"
   ]
  },
  {
   "cell_type": "code",
   "execution_count": 29,
   "metadata": {},
   "outputs": [
    {
     "name": "stdout",
     "output_type": "stream",
     "text": [
      "Enter QUIT to terminate entering something\n",
      "Length of the string is 24\n",
      "Length of the string is 11\n",
      "Done\n"
     ]
    }
   ],
   "source": [
    "print('Enter QUIT to terminate entering something')\n",
    "while True:\n",
    "  s = input('Enter something: ')\n",
    "  if s == 'QUIT':\n",
    "    break\n",
    "  print('Length of the string is', len(s))\n",
    "print('Done')"
   ]
  },
  {
   "attachments": {},
   "cell_type": "markdown",
   "metadata": {},
   "source": [
    "### The continue Statement"
   ]
  },
  {
   "cell_type": "code",
   "execution_count": 30,
   "metadata": {},
   "outputs": [
    {
     "name": "stdout",
     "output_type": "stream",
     "text": [
      "Too short\n",
      "Too short\n",
      "Input is of sufficient length\n"
     ]
    }
   ],
   "source": [
    "while True:\n",
    "  s = input('Enter something: ')\n",
    "  if s == 'quit':\n",
    "    break\n",
    "  if len(s) < 3:\n",
    "    print('Too short')\n",
    "    continue\n",
    "  print('Input is of sufficient length')"
   ]
  }
 ],
 "metadata": {
  "kernelspec": {
   "display_name": "base",
   "language": "python",
   "name": "python3"
  },
  "language_info": {
   "codemirror_mode": {
    "name": "ipython",
    "version": 3
   },
   "file_extension": ".py",
   "mimetype": "text/x-python",
   "name": "python",
   "nbconvert_exporter": "python",
   "pygments_lexer": "ipython3",
   "version": "3.9.13 (main, Aug 25 2022, 23:51:50) [MSC v.1916 64 bit (AMD64)]"
  },
  "orig_nbformat": 4,
  "vscode": {
   "interpreter": {
    "hash": "f22877bf9927aba00f41d070cb31798bd248ba61643142f28b17eabbaebc8b47"
   }
  }
 },
 "nbformat": 4,
 "nbformat_minor": 2
}
