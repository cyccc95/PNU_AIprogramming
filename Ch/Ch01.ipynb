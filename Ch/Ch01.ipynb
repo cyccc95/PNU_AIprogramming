{
 "cells": [
  {
   "attachments": {},
   "cell_type": "markdown",
   "metadata": {},
   "source": [
    "### Values and Types"
   ]
  },
  {
   "cell_type": "code",
   "execution_count": 62,
   "metadata": {},
   "outputs": [
    {
     "data": {
      "text/plain": [
       "(1, 0, 0)"
      ]
     },
     "execution_count": 62,
     "metadata": {},
     "output_type": "execute_result"
    }
   ],
   "source": [
    "type('Hello, World!')\n",
    "type(17)\n",
    "type(3.2)\n",
    "type('17')\n",
    "type((1, 0, 0))\n",
    "1,000,000"
   ]
  },
  {
   "attachments": {},
   "cell_type": "markdown",
   "metadata": {},
   "source": [
    "### Strings"
   ]
  },
  {
   "cell_type": "code",
   "execution_count": 3,
   "metadata": {},
   "outputs": [
    {
     "name": "stdout",
     "output_type": "stream",
     "text": [
      "What's your name?\n",
      "This is the first line.\n",
      "This is the second line.\n",
      "\"What's your name?,\" I asked.\n",
      "He said \"Bond, James Bond.\"\n"
     ]
    }
   ],
   "source": [
    "x = \"What's your name?\"\n",
    "print(x)\n",
    "# y = 'What's your name?'\n",
    "\n",
    "x = '''This is the first line.\n",
    "This is the second line.\n",
    "\"What's your name?,\" I asked.\n",
    "He said \"Bond, James Bond.\"'''\n",
    "print(x)"
   ]
  },
  {
   "cell_type": "code",
   "execution_count": 4,
   "metadata": {},
   "outputs": [
    {
     "data": {
      "text/plain": [
       "'ababab'"
      ]
     },
     "execution_count": 4,
     "metadata": {},
     "output_type": "execute_result"
    }
   ],
   "source": [
    "('a' + 'b') * 3"
   ]
  },
  {
   "cell_type": "code",
   "execution_count": 8,
   "metadata": {},
   "outputs": [
    {
     "data": {
      "text/plain": [
       "33"
      ]
     },
     "execution_count": 8,
     "metadata": {},
     "output_type": "execute_result"
    }
   ],
   "source": [
    "len('string')\n",
    "int('23')\n",
    "float('23')\n",
    "eval('23')\n",
    "eval('23.5')\n",
    "x = 5\n",
    "eval('23 + (2 * x)') # 수식을 계산해서 반환"
   ]
  },
  {
   "cell_type": "code",
   "execution_count": 12,
   "metadata": {},
   "outputs": [
    {
     "data": {
      "text/plain": [
       "5"
      ]
     },
     "execution_count": 12,
     "metadata": {},
     "output_type": "execute_result"
    }
   ],
   "source": [
    "exec('x = 2')\n",
    "exec('y = 3')\n",
    "eval('x + y')\n",
    "# exec('x + y') # exec는 계산을 하고 출력은 하지 않는다"
   ]
  },
  {
   "cell_type": "code",
   "execution_count": 15,
   "metadata": {},
   "outputs": [
    {
     "data": {
      "text/plain": [
       "'5.0'"
      ]
     },
     "execution_count": 15,
     "metadata": {},
     "output_type": "execute_result"
    }
   ],
   "source": [
    "str(5.6)\n",
    "str(5)\n",
    "str(5.)"
   ]
  },
  {
   "cell_type": "code",
   "execution_count": 26,
   "metadata": {},
   "outputs": [
    {
     "data": {
      "text/plain": [
       "['ab']"
      ]
     },
     "execution_count": 26,
     "metadata": {},
     "output_type": "execute_result"
    }
   ],
   "source": [
    "str1 = \"Python\"\n",
    "str1.upper()\n",
    "str1.lower()\n",
    "str1.count('th')\n",
    "'coDE'.capitalize()\n",
    "'beN hur'.title()\n",
    "'ab     '.rsplit() # remove spaces from the right side"
   ]
  },
  {
   "cell_type": "code",
   "execution_count": 27,
   "metadata": {},
   "outputs": [
    {
     "name": "stdout",
     "output_type": "stream",
     "text": [
      "3\n",
      "3\n"
     ]
    }
   ],
   "source": [
    "praise = \"Good Doggie\".upper()\n",
    "numberOfGees = praise.count('G')\n",
    "print(numberOfGees)\n",
    "\n",
    "numberOfGees = \"Good Doggie\".upper().count('G')\n",
    "print(numberOfGees)"
   ]
  },
  {
   "cell_type": "code",
   "execution_count": 34,
   "metadata": {},
   "outputs": [
    {
     "name": "stdout",
     "output_type": "stream",
     "text": [
      "Python\n",
      "y n th\n",
      "6\n",
      "-1\n",
      "9\n"
     ]
    }
   ],
   "source": [
    "print('Python')\n",
    "print('Python'[1], 'Python'[5], 'Python'[2:4])\n",
    "str1 = 'Hello World!'\n",
    "print(str1.find('W'))\n",
    "print(str1.find('x'))\n",
    "print(str1.rfind('l')) # finds the rightmost 'l'"
   ]
  },
  {
   "cell_type": "code",
   "execution_count": 37,
   "metadata": {},
   "outputs": [
    {
     "name": "stdout",
     "output_type": "stream",
     "text": [
      "Python\n",
      "n t yth\n",
      "g\n",
      "m & e\n",
      "spam & egg\n"
     ]
    }
   ],
   "source": [
    "print('Python')\n",
    "print('Python'[-1], 'Python'[-4], 'Python'[-5:-2])\n",
    "str1 = 'spam & eggs'\n",
    "print(str1[-2])\n",
    "print(str1[-8:-3])\n",
    "print(str1[0:-1])"
   ]
  },
  {
   "cell_type": "code",
   "execution_count": 39,
   "metadata": {},
   "outputs": [
    {
     "name": "stdout",
     "output_type": "stream",
     "text": [
      "thon Pyth Python\n",
      "hon Pyt\n"
     ]
    }
   ],
   "source": [
    "# str1[m:n]\n",
    "# m defaults to 0\n",
    "# n defaults to the length of the string\n",
    "print('Python'[2:], 'Python'[:4], 'Python'[:])\n",
    "print('Python'[-3:], 'Python'[:-3])"
   ]
  },
  {
   "cell_type": "code",
   "execution_count": 43,
   "metadata": {},
   "outputs": [
    {
     "name": "stdout",
     "output_type": "stream",
     "text": [
      "5*7\n",
      "HelloWorld\n",
      "1    two    3\n",
      "Hello World\n"
     ]
    }
   ],
   "source": [
    "x = 5; y = 7\n",
    "print(x, y, sep='*')\n",
    "print('Hello', 'World', sep='')\n",
    "print('1', 'two', 3, sep='    ')\n",
    "print('Hello', end=' ')\n",
    "print('World')"
   ]
  },
  {
   "cell_type": "code",
   "execution_count": 46,
   "metadata": {},
   "outputs": [
    {
     "name": "stdout",
     "output_type": "stream",
     "text": [
      "Swaroop was 20 years old when he wrote the book\n",
      "A byte of Python.\n",
      "Why is Swaroop playing with that python?\n",
      "Swaroop was 20 years old when he wrote the book\n",
      "A byte of Python.\n",
      "Why is Swaroop playing with that python?\n"
     ]
    }
   ],
   "source": [
    "age = 20\n",
    "name = 'Swaroop'\n",
    "print('''{0} was {1} years old when he wrote the book\n",
    "A byte of Python.'''.format(name, age))\n",
    "print('Why is {0} playing with that python?'.format(name))\n",
    "\n",
    "print('''{} was {} years old when he wrote the book\n",
    "A byte of Python.'''.format(name, age))\n",
    "print('Why is {} playing with that python?'.format(name))"
   ]
  },
  {
   "cell_type": "code",
   "execution_count": 48,
   "metadata": {},
   "outputs": [
    {
     "name": "stdout",
     "output_type": "stream",
     "text": [
      "012345678901234567890123456789\n",
      "Rank Player               HR\n",
      "  1  Barry Bonds         762\n",
      "  2  Hank Aaron          755\n",
      "  3  Babe Ruth           714\n"
     ]
    }
   ],
   "source": [
    "print(\"012345678901234567890123456789\")\n",
    "print(\"{0:^5}{1:<20}{2:>3}\".format(\"Rank\", \"Player\", \"HR\"))\n",
    "print(\"{0:^5}{1:<20}{2:>3}\".format(1, \"Barry Bonds\", 762))\n",
    "print(\"{0:^5}{1:<20}{2:>3}\".format(2, \"Hank Aaron\", 755))\n",
    "print(\"{0:^5}{1:<20}{2:>3}\".format(3, \"Babe Ruth\", 714))"
   ]
  },
  {
   "cell_type": "code",
   "execution_count": 52,
   "metadata": {},
   "outputs": [
    {
     "name": "stdout",
     "output_type": "stream",
     "text": [
      "   1234.57\n",
      "  1,234.57\n",
      " 1,234.568\n",
      "123,456.78%\n",
      "123,456.780%\n",
      "12,345,678\n"
     ]
    }
   ],
   "source": [
    "print('{0:10.2f}'.format(1234.5678))\n",
    "print('{0:10,.2f}'.format(1234.5678))\n",
    "print('{0:10,.3f}'.format(1234.5678))\n",
    "print('{0:10,.2%}'.format(1234.5678))\n",
    "print('{0:10,.3%}'.format(1234.5678))\n",
    "print('{0:10,}'.format(12345678))"
   ]
  },
  {
   "cell_type": "code",
   "execution_count": 55,
   "metadata": {},
   "outputs": [
    {
     "name": "stdout",
     "output_type": "stream",
     "text": [
      "0.333\n",
      "___hello___\n",
      "Swaroop wrote A Byte of Python\n"
     ]
    }
   ],
   "source": [
    "# decimal (.) precision of 3 for a float\n",
    "print('{0:.3f}'.format(1.0/3))\n",
    "# fill with underscores (_) with the next centered (^)\n",
    "# to the width of 11\n",
    "print('{0:_^11}'.format('hello'))\n",
    "# keyword-based specifications\n",
    "print('{name} wrote {book}'.format(name = 'Swaroop', book = 'A Byte of Python'))"
   ]
  },
  {
   "cell_type": "code",
   "execution_count": 56,
   "metadata": {},
   "outputs": [
    {
     "name": "stdout",
     "output_type": "stream",
     "text": [
      "What's your name?\n",
      "What's your name?\n",
      "He said, \"Bond, James Bond.\"\n",
      "He said, \"Bond, James Bond.\"\n"
     ]
    }
   ],
   "source": [
    "print(\"What's your name?\")\n",
    "print('What\\'s your name?')\n",
    "print('He said, \"Bond, James Bond.\"')\n",
    "print(\"He said, \\\"Bond, James Bond.\\\"\")"
   ]
  },
  {
   "cell_type": "code",
   "execution_count": 66,
   "metadata": {},
   "outputs": [
    {
     "name": "stdout",
     "output_type": "stream",
     "text": [
      "How can you prevent \\n from being printed?\n",
      "How can you prevent \n",
      " from being printed?\n",
      "A backslash at the end of the line indicates line continuation\n"
     ]
    }
   ],
   "source": [
    "print('How can you prevent \\\\n from being printed?')\n",
    "print('How can you prevent \\n from being printed?')\n",
    "print('A backslash at the end of the line \\\n",
    "indicates line continuation')"
   ]
  },
  {
   "attachments": {},
   "cell_type": "markdown",
   "metadata": {},
   "source": [
    "### Keyboard Input"
   ]
  },
  {
   "cell_type": "code",
   "execution_count": 68,
   "metadata": {},
   "outputs": [
    {
     "name": "stdout",
     "output_type": "stream",
     "text": [
      "Allen\n"
     ]
    },
    {
     "data": {
      "text/plain": [
       "'Allen'"
      ]
     },
     "execution_count": 68,
     "metadata": {},
     "output_type": "execute_result"
    }
   ],
   "source": [
    "name = input('What is your name? ')\n",
    "print(name)\n",
    "name"
   ]
  },
  {
   "cell_type": "code",
   "execution_count": 69,
   "metadata": {},
   "outputs": [
    {
     "data": {
      "text/plain": [
       "17"
      ]
     },
     "execution_count": 69,
     "metadata": {},
     "output_type": "execute_result"
    }
   ],
   "source": [
    "prompt = 'What is the airspeed velocity of a swallow\\n'\n",
    "speed = int(input(prompt))\n",
    "speed"
   ]
  },
  {
   "cell_type": "code",
   "execution_count": 71,
   "metadata": {},
   "outputs": [
    {
     "name": "stdout",
     "output_type": "stream",
     "text": [
      "Last name:  Delano\n",
      "First name(s):  Franklin\n"
     ]
    }
   ],
   "source": [
    "fullName = input('Enter a full name: ')\n",
    "n = fullName.rfind(' ')\n",
    "print('Last name: ', fullName[n+1:])\n",
    "print('First name(s): ', fullName[:n])"
   ]
  },
  {
   "attachments": {},
   "cell_type": "markdown",
   "metadata": {},
   "source": [
    "### Indentation and Line Joining"
   ]
  },
  {
   "cell_type": "code",
   "execution_count": 74,
   "metadata": {},
   "outputs": [
    {
     "name": "stdout",
     "output_type": "stream",
     "text": [
      "The area of Texas is 268,820 square miles.\n",
      "The population of Texas is 8.56% of the U.S. population.\n"
     ]
    }
   ],
   "source": [
    "print('The area of {0} is {1:,} square miles.'.format('Texas', 268820))\n",
    "str1 = 'The population of {0} is {1:.2%} of \\\n",
    "the U.S. population.'\n",
    "print(str1.format('Texas', 26448000. / 309000000))"
   ]
  },
  {
   "cell_type": "code",
   "execution_count": 78,
   "metadata": {},
   "outputs": [
    {
     "name": "stdout",
     "output_type": "stream",
     "text": [
      "Well written code is its own best documentation.\n"
     ]
    }
   ],
   "source": [
    "quotation = ('Well written code is its own ' +\n",
    "              'best documentation.')\n",
    "print(quotation)            "
   ]
  }
 ],
 "metadata": {
  "kernelspec": {
   "display_name": "base",
   "language": "python",
   "name": "python3"
  },
  "language_info": {
   "codemirror_mode": {
    "name": "ipython",
    "version": 3
   },
   "file_extension": ".py",
   "mimetype": "text/x-python",
   "name": "python",
   "nbconvert_exporter": "python",
   "pygments_lexer": "ipython3",
   "version": "3.9.13"
  },
  "orig_nbformat": 4,
  "vscode": {
   "interpreter": {
    "hash": "f22877bf9927aba00f41d070cb31798bd248ba61643142f28b17eabbaebc8b47"
   }
  }
 },
 "nbformat": 4,
 "nbformat_minor": 2
}
