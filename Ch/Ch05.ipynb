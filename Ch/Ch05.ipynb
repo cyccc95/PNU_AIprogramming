{
 "cells": [
  {
   "attachments": {},
   "cell_type": "markdown",
   "metadata": {},
   "source": [
    "### Reading Text Files"
   ]
  },
  {
   "cell_type": "code",
   "execution_count": 1,
   "metadata": {},
   "outputs": [
    {
     "name": "stdout",
     "output_type": "stream",
     "text": [
      "George Washington\n",
      "John Adams\n",
      "Thomas Jefferson\n",
      "\n",
      "['George Washington', 'John Adams', 'Thomas Jefferson']\n",
      "\n",
      "George Washington\n",
      "John Adams\n",
      "Thomas Jefferson\n"
     ]
    }
   ],
   "source": [
    "def main():\n",
    "  ## Display the names of the first three presidents\n",
    "  file = \"./data/FirstPresidents.txt\"\n",
    "  displayWithForLoop(file)\n",
    "  print()\n",
    "  displayWithListComprehension(file)\n",
    "  print()\n",
    "  displayWithReadline(file)\n",
    "\n",
    "def displayWithForLoop(file):\n",
    "  infile = open(file, 'r')\n",
    "  for line in infile:\n",
    "    print(line.rstrip())\n",
    "  infile.close()\n",
    "  \n",
    "def displayWithListComprehension(file):\n",
    "  infile = open(file, 'r')\n",
    "  listPres = [line.rstrip() for line in infile]\n",
    "  infile.close()\n",
    "  print(listPres)\n",
    "\n",
    "def displayWithReadline(file):\n",
    "  infile = open(file, 'r')\n",
    "  line = infile.readline()\n",
    "  while line != \"\":\n",
    "    print(line.rstrip())\n",
    "    line = infile.readline()\n",
    "  infile.close()\n",
    "\n",
    "main()"
   ]
  },
  {
   "attachments": {},
   "cell_type": "markdown",
   "metadata": {},
   "source": [
    "### Creating Text Files"
   ]
  },
  {
   "cell_type": "code",
   "execution_count": 3,
   "metadata": {},
   "outputs": [],
   "source": [
    "def main():\n",
    "  ## Create two files containing the first three presidents\n",
    "  L = [\"George Washington\", \"John Adams\", \"Thomas Jefferson\"]\n",
    "  outfile = open('./data/FirstPresidents2.txt', 'w')\n",
    "  createWithWrite(L, outfile)\n",
    "  outfile = open('./data/FirstPresidents3.txt', 'w')\n",
    "  createWithWritelines(L, outfile)\n",
    "\n",
    "def createWithWrite(L, outfile):\n",
    "  for i in range(len(L)):\n",
    "    outfile.write(L[i] + '\\n')\n",
    "  outfile.close()\n",
    "\n",
    "def createWithWritelines(L, outfile):\n",
    "  # Append endline characters to the list's time\n",
    "  for i in range(len(L)):\n",
    "    L[i] = L[i] + '\\n'\n",
    "    # Write the list's items to the file\n",
    "  outfile.writelines(L)\n",
    "  outfile.close()\n",
    "\n",
    "main()"
   ]
  },
  {
   "cell_type": "code",
   "execution_count": null,
   "metadata": {},
   "outputs": [],
   "source": [
    "def main():\n",
    "  ## Craete a text file containing the 50 states in alphabetical order\n",
    "  statesList = createListFromFile(\"States.txt\")\n",
    "  createSortedFile(statesList, \"StatesAlpha.txt\")\n",
    "\n",
    "def createListFromFile(fileName):\n",
    "  infile = open(fileName, 'r')\n",
    "  desiredList = [line.rstrip() for line in infile]\n",
    "  infile.close()\n",
    "  return desierdList\n",
    "\n",
    "def createSortedFile(listName, fileName):\n",
    "  listName.sort()\n",
    "  for i in range(len(listName)):\n",
    "    listName[i] = listName[i] + '\\n'\n",
    "  outfile = open(fileName, 'w')\n",
    "  outfile,writelines(listName)\n",
    "  outfile.close()\n",
    "\n",
    "main()"
   ]
  },
  {
   "cell_type": "code",
   "execution_count": null,
   "metadata": {},
   "outputs": [],
   "source": [
    "def main():\n",
    "  ## Create a file of the presidents who also served as vice-presidents\n",
    "  vicePresList = createListFromFile(\"VPres.txt\")\n",
    "  createNewFile(vicePresList, \"USPres.txt\", \"Both.txt\")\n",
    "\n",
    "def createListFromFile(fileName):\n",
    "  infile = open(fileName, 'r')\n",
    "  desiredList = [line.rstrip() for line in infile]\n",
    "  infile.close()\n",
    "  return desiredList\n",
    "\n",
    "def createNewFile(listName, oldFileName, newFileName):\n",
    "  infile = open(oldFileName, 'r')\n",
    "  outfile = open(newFileName, 'w')\n",
    "  for person in infile:\n",
    "    if person.rstrip() in listName:\n",
    "      outfile.write(person)\n",
    "  infile.close()\n",
    "  outfile.close()\n",
    "\n",
    "main()"
   ]
  },
  {
   "attachments": {},
   "cell_type": "markdown",
   "metadata": {},
   "source": [
    "### Adding Lines to an Existing Text File"
   ]
  },
  {
   "cell_type": "code",
   "execution_count": null,
   "metadata": {},
   "outputs": [],
   "source": [
    "def main():\n",
    "  ## Add next three presidents to the file containing first three presidents\n",
    "  outfile = open(\"FirstPresidents.txt\", 'a')\n",
    "  list1 = [\"James Madison\\n\", \"James Monroe\\n\"]\n",
    "  outfile.writelines(list1)\n",
    "  outfile.write(\"John Q. Adams\\n\")\n",
    "  outfile.close()\n",
    "\n",
    "main()"
   ]
  },
  {
   "attachments": {},
   "cell_type": "markdown",
   "metadata": {},
   "source": [
    "### Altering Items in a Text File"
   ]
  },
  {
   "cell_type": "code",
   "execution_count": null,
   "metadata": {},
   "outputs": [],
   "source": [
    "import os.path\n",
    "\n",
    "if os.path.isfile(\"ABC.txt\"):\n",
    "  print('File already exists.')\n",
    "else:\n",
    "  infile = open(\"ABC.txt\", 'w')\n",
    "  infile.write('a\\nb\\nc\\n')\n",
    "  infile.close()"
   ]
  },
  {
   "attachments": {},
   "cell_type": "markdown",
   "metadata": {},
   "source": [
    "### Sets"
   ]
  },
  {
   "cell_type": "code",
   "execution_count": 9,
   "metadata": {},
   "outputs": [
    {
     "data": {
      "text/plain": [
       "{'brazil', 'china', 'india', 'russia'}"
      ]
     },
     "execution_count": 9,
     "metadata": {},
     "output_type": "execute_result"
    }
   ],
   "source": [
    "bri = {'brazil', 'russia', 'india'}\n",
    "'india' in bri # True\n",
    "'usa' in bri # False\n",
    "\n",
    "bric = bri.copy()\n",
    "bric.add('china')\n",
    "bri.remove('russia') # or bri.discard('russia)\n",
    "bri\n",
    "bric\n",
    "\n",
    "bric.issuperset(bri) # or bri.issubset(bric)\n",
    "bri & bric # or bri.intersection(bric)\n",
    "bric.difference(bri) # or bric - bri\n",
    "bric.union(bri) # or bric | bri"
   ]
  },
  {
   "cell_type": "code",
   "execution_count": 15,
   "metadata": {},
   "outputs": [
    {
     "name": "stdout",
     "output_type": "stream",
     "text": [
      "{'wink', 'nudge'}\n"
     ]
    },
    {
     "data": {
      "text/plain": [
       "set()"
      ]
     },
     "execution_count": 15,
     "metadata": {},
     "output_type": "execute_result"
    }
   ],
   "source": [
    "words = ['nudge', 'nudge', 'wink', 'wink']\n",
    "tuple(words)\n",
    "terms = set(words)\n",
    "print(terms)\n",
    "list(terms)\n",
    "tuple(terms)\n",
    "\n",
    "alpha = ('a', 'b', 'c')\n",
    "set(alpha)\n",
    "terms.clear() # clear is a set method\n",
    "terms\n"
   ]
  },
  {
   "cell_type": "code",
   "execution_count": 19,
   "metadata": {},
   "outputs": [
    {
     "data": {
      "text/plain": [
       "{'brazil', 'china', 'india', 'russia'}"
      ]
     },
     "execution_count": 19,
     "metadata": {},
     "output_type": "execute_result"
    }
   ],
   "source": [
    "bric = {'brazil', 'china', 'india', 'russia'}\n",
    "bric\n",
    "\n",
    "sorted(bric)\n",
    "\n",
    "sorted(bric, key=len, reverse=True)\n",
    "\n",
    "bric"
   ]
  },
  {
   "cell_type": "code",
   "execution_count": 20,
   "metadata": {},
   "outputs": [
    {
     "data": {
      "text/plain": [
       "{0, 1, 4, 9}"
      ]
     },
     "execution_count": 20,
     "metadata": {},
     "output_type": "execute_result"
    }
   ],
   "source": [
    "{x * x for x in range(-3, 3)}"
   ]
  },
  {
   "cell_type": "code",
   "execution_count": null,
   "metadata": {},
   "outputs": [],
   "source": [
    "def main():\n",
    "  ## Create a file of the presidents who also served as Vice-presidents\n",
    "  vicePresSet = createSetFromFile('VPres.txt')\n",
    "  presSet = createSetFromFile('UsPres.txt')\n",
    "  bothPresAndVPresSet = createIntersection(vicePresSet, presSet)\n",
    "  writeNamesToFile(bothPresAndVPresSet, \"PresAndVPres.txt\")\n",
    "\n",
    "def createSetFromFile(fileName):\n",
    "  # Assume that the last line of the file ends with a newline character\n",
    "  infile = open(fileName, 'r')\n",
    "  nameSet = {name for name in infile}\n",
    "  infile.close()\n",
    "  return namesSet\n",
    "\n",
    "def createIntersection(set1, set2):\n",
    "  return set1.intersection(set2)\n",
    "\n",
    "def writeNamesToFile(setName, fileName):\n",
    "  outfile = open(fileName, 'w')\n",
    "  outfile.writelines(setName)\n",
    "  outfile.close()\n",
    "\n",
    "main()"
   ]
  },
  {
   "cell_type": "code",
   "execution_count": 27,
   "metadata": {},
   "outputs": [
    {
     "data": {
      "text/plain": [
       "{1, 2, 5}"
      ]
     },
     "execution_count": 27,
     "metadata": {},
     "output_type": "execute_result"
    }
   ],
   "source": [
    "{1, 2, 3} | {3, 4} # set union\n",
    "{1, 2, 3} & {3, 4} # set intersection\n",
    "{1, 2, 3} - {3, 4} # set difference\n",
    "{1, 2, 3} ^ {3, 4} # symmetric difference\n",
    "3 in {1, 2, 3} # is an element of\n",
    "x = {1, 2, 3} - {3, 4} # x = {1, 2}\n",
    "x.add(5) # x = {1, 2, 5}\n",
    "y = x.copy() # y is a copy of x\n",
    "y.discard(1)\n",
    "y\n",
    "x"
   ]
  },
  {
   "attachments": {},
   "cell_type": "markdown",
   "metadata": {},
   "source": [
    "### CVS Files"
   ]
  },
  {
   "cell_type": "code",
   "execution_count": null,
   "metadata": {},
   "outputs": [],
   "source": [
    "def main():\n",
    "  ## Display the countries in a specified continent\n",
    "  continent = input(\"enter the name of a continenet: \")\n",
    "  continent = continent.title() # ALlow for all lower\n",
    "  if continent != \"Antarctica\": # case letters\n",
    "    infile = open('UN.txt', 'r')\n",
    "    for line in infile:\n",
    "      data = line.split(',')\n",
    "      if data[1] == continent:\n",
    "        print(data[0])\n",
    "  else:\n",
    "    print('There are no countries in Antarctica.')\n",
    "\n",
    "main()"
   ]
  },
  {
   "cell_type": "code",
   "execution_count": null,
   "metadata": {},
   "outputs": [],
   "source": [
    "def main():\n",
    "  ## Create a file containing all countries and areas\n",
    "  ## ordered by area\n",
    "  ## Display first five lines of the file\n",
    "  countries = placeRecordsIntoList('UN.txt')\n",
    "  countries.sort(key=lambda country: country[3], reverse=True)\n",
    "  displayFiveLargestCountries(countries)\n",
    "  createNewFile(countries) # Create file of countires and their areas\n",
    "\n",
    "def placeRecordsIntoList(fileName):\n",
    "  infile = open(fileName, 'r')\n",
    "  listOfRecords = [line.rstrip() for line in infile]\n",
    "  infile.close()\n",
    "  for i in range(len(listOfRecords)):\n",
    "    listOfRecords[i] = listOfRecords[i].split(',')\n",
    "    listOfRecords[i][2] = eval(listOfRecords[i][2]) # population\n",
    "    listOfRecords[i][3] = eval(listOfRecords[i][3]) # area\n",
    "  return listOfRecords\n",
    "\n",
    "def displayFiveLargestCountries(countries):\n",
    "  print('{0:20}{1:9}'.format('Country', 'Area (sq. mi.)'))\n",
    "  for i in range(5):\n",
    "    print('{0:20}{1:9,d}'.format(countries[i][0], countries[i][3]))\n",
    "\n",
    "def createNewFile(countries):\n",
    "  outfile = open('UNbyArea.txt', 'w')\n",
    "  for country in countries:\n",
    "    outfile.write(country[0] + ',' + str(country[3]) + '\\n')\n",
    "  outfile.close()\n",
    "\n",
    "main()"
   ]
  },
  {
   "attachments": {},
   "cell_type": "markdown",
   "metadata": {},
   "source": [
    "### Dictionary"
   ]
  },
  {
   "cell_type": "code",
   "execution_count": 29,
   "metadata": {},
   "outputs": [
    {
     "data": {
      "text/plain": [
       "{'one': 1, 'two': 2, 'three': 3}"
      ]
     },
     "execution_count": 29,
     "metadata": {},
     "output_type": "execute_result"
    }
   ],
   "source": [
    "list1 = [['one', 1], ['two', 2], ['three', 3]]\n",
    "dict(list1)\n",
    "list2 = [['one', 1], ['two', 2], ['three', 3]]\n",
    "dict(list2)"
   ]
  },
  {
   "cell_type": "code",
   "execution_count": 33,
   "metadata": {},
   "outputs": [
    {
     "name": "stdout",
     "output_type": "stream",
     "text": [
      "Swaroop's address is swaroop@swaroopch.com\n",
      "\n",
      "There are 3 contacts in the address-book\n",
      "\n",
      "Contact Swaroop at swaroop@swaroopch.com\n",
      "Contact Larry at larry@wall.org\n",
      "Contact Matsumoto at matz@ruby-lang.org\n",
      "\n",
      "Guido's address is quido@python.org\n"
     ]
    }
   ],
   "source": [
    "addr = { 'Swaroop' : 'swaroop@swaroopch.com',\n",
    "          'Larry' : 'larry@wall.org',\n",
    "          'Matsumoto' : 'matz@ruby-lang.org',\n",
    "          'Spammer' : 'spammer@hotmail.com' }\n",
    "print(\"Swaroop's address is\", addr['Swaroop'])\n",
    "\n",
    "# Deleting a key-value pair\n",
    "del addr['Spammer']\n",
    "print('\\nThere are {} contacts in the address-book\\n'.format(len(addr)))\n",
    "\n",
    "for name, address in list(addr.items()):\n",
    "  print('Contact {} at {}'.format(name, address))\n",
    "\n",
    "# Adding a key-value pair\n",
    "addr['Guido'] = 'quido@python.org'\n",
    "if 'Guido' in addr:\n",
    "  print(\"\\nGuido's address is\", addr['Guido'])"
   ]
  },
  {
   "cell_type": "code",
   "execution_count": 35,
   "metadata": {},
   "outputs": [
    {
     "name": "stdout",
     "output_type": "stream",
     "text": [
      "Enter the person's age group The admission fee is 0 dollars.\n"
     ]
    }
   ],
   "source": [
    "def main():\n",
    "  ## Determine an admission fee based on age group\n",
    "  print(\"Enter the person's age group \", end='')\n",
    "  ageGroup = input(\"(child, minor, adult, or senior): \")\n",
    "  print(\"The admission fee is\", determineAdmissionFee(ageGroup), 'dollars.')\n",
    "\n",
    "# def determineAdmissionFee(ageGroup):\n",
    "#   if ageGroup == 'child':\n",
    "#     return 0\n",
    "#   elif ageGroup == 'minor':\n",
    "#     return 5\n",
    "#   elif ageGroup == 'adult':\n",
    "#     return 10\n",
    "#   elif ageGroup == 'senior':\n",
    "#     return 8\n",
    "\n",
    "def determineAdmissionFee(ageGroup):\n",
    "  dict = {'child':0, 'minor':5, 'adult':10, 'senior':8}\n",
    "  return dict[ageGroup]\n",
    "\n",
    "main()"
   ]
  },
  {
   "cell_type": "code",
   "execution_count": null,
   "metadata": {},
   "outputs": [],
   "source": [
    "def main():\n",
    "  ## Analyze word frequencies in the Gettysburg Address,\n",
    "  ## which is written in a single line\n",
    "  listOfWords = formListOfWords('Gettysburg.txt')\n",
    "  freq = createFrequencyDictionary(listOfWords)\n",
    "  displayWordCount(listOfWords, freq)\n",
    "  displayMostCommonWords(freq)\n",
    "\n",
    "def formListOfWords(fileName):\n",
    "  infile = open(fileName)\n",
    "  originalLine = infile.readline().lower()\n",
    "  # Remove punctuation marks from the line\n",
    "  line = ''\n",
    "  for ch in originalLine:\n",
    "    if ('a' <= ch <= 'z') or (ch == ' '):\n",
    "      line += ch\n",
    "  # Place the individual words into a list\n",
    "  listOfWords = line.split()\n",
    "  return listOfWords\n",
    "\n",
    "def createFrequencyDictionary(listOfWords):\n",
    "  ## Create dictionary with each item having the form"
   ]
  }
 ],
 "metadata": {
  "kernelspec": {
   "display_name": "base",
   "language": "python",
   "name": "python3"
  },
  "language_info": {
   "codemirror_mode": {
    "name": "ipython",
    "version": 3
   },
   "file_extension": ".py",
   "mimetype": "text/x-python",
   "name": "python",
   "nbconvert_exporter": "python",
   "pygments_lexer": "ipython3",
   "version": "3.9.13"
  },
  "orig_nbformat": 4,
  "vscode": {
   "interpreter": {
    "hash": "f22877bf9927aba00f41d070cb31798bd248ba61643142f28b17eabbaebc8b47"
   }
  }
 },
 "nbformat": 4,
 "nbformat_minor": 2
}
