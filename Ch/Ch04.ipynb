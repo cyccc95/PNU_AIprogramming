{
 "cells": [
  {
   "attachments": {},
   "cell_type": "markdown",
   "metadata": {},
   "source": [
    "### Function Definition"
   ]
  },
  {
   "cell_type": "code",
   "execution_count": 2,
   "metadata": {},
   "outputs": [
    {
     "name": "stdout",
     "output_type": "stream",
     "text": [
      "4 is maximum\n",
      "7 is maximum\n"
     ]
    }
   ],
   "source": [
    "def print_max(a, b):\n",
    "  if a > b:\n",
    "    print(a, 'is maximum')\n",
    "  elif a == b:\n",
    "    print(a, 'is equal to', b)\n",
    "  else:\n",
    "    print(b, 'is maximum')\n",
    "\n",
    "print_max(3, 4)\n",
    "\n",
    "x = 5; y = 7\n",
    "print_max(x, y)"
   ]
  },
  {
   "cell_type": "code",
   "execution_count": 3,
   "metadata": {},
   "outputs": [
    {
     "name": "stdout",
     "output_type": "stream",
     "text": [
      "3\n",
      "The numbers are equal\n"
     ]
    }
   ],
   "source": [
    "def maximum(x, y):\n",
    "  if x > y:\n",
    "    return x\n",
    "  elif x == y:\n",
    "    return 'The numbers are equal'\n",
    "  else:\n",
    "    return y\n",
    "\n",
    "print(maximum(2, 3))\n",
    "print(maximum(5, 5))"
   ]
  },
  {
   "attachments": {},
   "cell_type": "markdown",
   "metadata": {},
   "source": [
    "### Scope of Variables"
   ]
  },
  {
   "cell_type": "code",
   "execution_count": 5,
   "metadata": {},
   "outputs": [
    {
     "name": "stdout",
     "output_type": "stream",
     "text": [
      "x is 50\n",
      "Changed local x to 2\n",
      "x is still 50\n"
     ]
    }
   ],
   "source": [
    "x = 50 # This x is a global variable\n",
    "\n",
    "def func(x):\n",
    "  print('x is', x) # This x is a local variable\n",
    "  x = 2\n",
    "  print('Changed local x to', x)\n",
    "\n",
    "func(x)\n",
    "print('x is still', x)"
   ]
  },
  {
   "cell_type": "code",
   "execution_count": 6,
   "metadata": {},
   "outputs": [
    {
     "name": "stdout",
     "output_type": "stream",
     "text": [
      "2: function main\n",
      "3: function trivial\n",
      "2: function main\n"
     ]
    }
   ],
   "source": [
    "def main():\n",
    "  ## Demonstrate the scope of variables\n",
    "  x = 2\n",
    "  print(str(x) + \": function main\")\n",
    "  trivial()\n",
    "  print(str(x) + \": function main\")\n",
    "\n",
    "def trivial():\n",
    "  x = 3\n",
    "  print(str(x) + \": function trivial\")\n",
    "\n",
    "main()"
   ]
  },
  {
   "cell_type": "code",
   "execution_count": 8,
   "metadata": {},
   "outputs": [
    {
     "name": "stdout",
     "output_type": "stream",
     "text": [
      "x is 50\n",
      "Changed global x to 2\n",
      "Value of x is 2\n"
     ]
    }
   ],
   "source": [
    "x = 50\n",
    "\n",
    "def main():\n",
    "  func()\n",
    "  print('Value of x is', x)\n",
    "\n",
    "def func():\n",
    "  global x # Can declare more than one global variable\n",
    "  print('x is', x)\n",
    "  x = 2\n",
    "  print('Changed global x to', x)\n",
    "\n",
    "main()"
   ]
  },
  {
   "attachments": {},
   "cell_type": "markdown",
   "metadata": {},
   "source": [
    "### More Examples"
   ]
  },
  {
   "cell_type": "code",
   "execution_count": 9,
   "metadata": {},
   "outputs": [
    {
     "name": "stdout",
     "output_type": "stream",
     "text": [
      "First name: Franklin\n"
     ]
    }
   ],
   "source": [
    "def main():\n",
    "  ## Extract the first name from a full name\n",
    "  fullName = input(\"Enter a person's full name: \")\n",
    "  print('First name:', firstName(fullName))\n",
    "\n",
    "def firstName(fullName):\n",
    "  firstSpace = fullName.index(\" \")\n",
    "  givenName = fullName[:firstSpace]\n",
    "  return givenName\n",
    "\n",
    "main()\n"
   ]
  },
  {
   "cell_type": "code",
   "execution_count": 10,
   "metadata": {},
   "outputs": [
    {
     "name": "stdout",
     "output_type": "stream",
     "text": [
      "Earnings: $1,163.75\n"
     ]
    }
   ],
   "source": [
    "def main():\n",
    "  ## Calculate a person's weekly pay\n",
    "  hourlyWage = float(input('Enter the hourly wage: '))\n",
    "  hoursWorked = int(input('Enter # house worked: '))\n",
    "  earnings = pay(hourlyWage, hoursWorked)\n",
    "  print('Earnings: ${0:,.2f}'.format(earnings))\n",
    "\n",
    "def pay(wage, hours):\n",
    "  if hours <= 40:\n",
    "    amount = wage * hours\n",
    "  else:\n",
    "    amount = (wage * 40) + ((1.5) * wage * (hours - 40))\n",
    "  return amount\n",
    "\n",
    "main()\n"
   ]
  },
  {
   "cell_type": "code",
   "execution_count": 11,
   "metadata": {},
   "outputs": [
    {
     "name": "stdout",
     "output_type": "stream",
     "text": [
      "The following vowels occur in the word: A I O\n"
     ]
    }
   ],
   "source": [
    "def main():\n",
    "  ## Display the vowels appearing in a word\n",
    "  word = input(\"Enter a word: \")\n",
    "  listOfVowels = occurringVowels(word)\n",
    "  print('The following vowels occur in the word: ', end='')\n",
    "  stringOfVowels = ' '.join(listOfVowels)\n",
    "  print(stringOfVowels)\n",
    "\n",
    "def occurringVowels(word):\n",
    "  word = word.upper()\n",
    "  vowels = ('A', 'E', 'I', 'O', 'U')\n",
    "  includedVowels = []\n",
    "  for vowel in vowels:\n",
    "    if (vowel in word) and (vowel not in includedVowels):\n",
    "      includedVowels.append(vowel)\n",
    "  return includedVowels\n",
    "\n",
    "main()"
   ]
  },
  {
   "cell_type": "code",
   "execution_count": 12,
   "metadata": {},
   "outputs": [
    {
     "name": "stdout",
     "output_type": "stream",
     "text": [
      "Balance: $14,802.44  Interest Earned: $4,802.44\n"
     ]
    }
   ],
   "source": [
    "INTEREST_RATE = .04 # annual rate of interest\n",
    "\n",
    "def main():\n",
    "  ## Calculate the balance and intereset earned\n",
    "  (deposit, numberOfYears) = getInput()\n",
    "  bal, intEarned = balAndInterest(deposit, numberOfYears)\n",
    "  displayOutput(bal, intEarned)\n",
    "\n",
    "def getInput():\n",
    "  deposit = int(input('Enter the amount of deposit: '))\n",
    "  numberOfYears = int(input('Enter # of years :'))\n",
    "  return (deposit, numberOfYears)\n",
    "\n",
    "def balAndInterest(principal, numYears):\n",
    "  balance = principal * ((1 + INTEREST_RATE) ** numYears)\n",
    "  interestEarned = balance - principal\n",
    "  return (balance, interestEarned)\n",
    "\n",
    "def displayOutput(bal, intEarned):\n",
    "  print('Balance: ${0:,.2f}  Interest Earned: ${1:,.2f}'.format(bal, intEarned))\n",
    "\n",
    "main()\n"
   ]
  },
  {
   "cell_type": "code",
   "execution_count": 16,
   "metadata": {},
   "outputs": [
    {
     "name": "stdout",
     "output_type": "stream",
     "text": [
      "Sorted by length in ascending order: \n",
      "['two', 'brrr', 'break', 'equals', 'sequoia', 'democratic'] \n",
      "\n",
      "Sorted by number of vowels in descending order: \n",
      "['sequoia', 'democratic', 'equals', 'break', 'two', 'brrr']\n"
     ]
    }
   ],
   "source": [
    "def main():\n",
    "  ## Custom sort a list of words\n",
    "  list1 = ['democratic', 'sequoia', 'equals', 'brrr', 'break', 'two']\n",
    "  list1.sort(key=len)\n",
    "  print('Sorted by length in ascending order: ')\n",
    "  print(list1, '\\n')\n",
    "  list1.sort(key=numberOfVowels, reverse=True)\n",
    "  print(\"Sorted by number of vowels in descending order: \")\n",
    "  print(list1)\n",
    "\n",
    "def numberOfVowels(word):\n",
    "  vowels = ('a', 'e', 'i', 'o', 'u')\n",
    "  total = 0\n",
    "  for vowel in vowels:\n",
    "    total += word.count(vowel)\n",
    "  return total\n",
    "\n",
    "main()\n"
   ]
  },
  {
   "cell_type": "code",
   "execution_count": 21,
   "metadata": {},
   "outputs": [
    {
     "data": {
      "text/plain": [
       "['a', 'm', 'p', 's']"
      ]
     },
     "execution_count": 21,
     "metadata": {},
     "output_type": "execute_result"
    }
   ],
   "source": [
    "list1 = ['white', 'blue', 'red']\n",
    "list2 = sorted(list1)\n",
    "list2\n",
    "sorted(list1, reverse=True)\n",
    "sorted(list1, key=len)\n",
    "list1\n",
    "sorted('spam')"
   ]
  },
  {
   "attachments": {},
   "cell_type": "markdown",
   "metadata": {},
   "source": [
    "### Library Modules"
   ]
  },
  {
   "cell_type": "code",
   "execution_count": null,
   "metadata": {},
   "outputs": [],
   "source": [
    "import finance\n",
    "\n",
    "def main():\n",
    "  ## Calculate a person's weekly pay\n",
    "  hourlyWage = float(input('Enter the hourly wage: '))\n",
    "  hoursWorked = int(input('Enter # hours worked: '))\n",
    "  earnings = finance.pay(hourlyWage, hoursWorked)\n",
    "  print('Earnings: ${0:,.2f}'.format(earnings))\n",
    "\n",
    "main()"
   ]
  },
  {
   "attachments": {},
   "cell_type": "markdown",
   "metadata": {},
   "source": [
    "### List Comprehension"
   ]
  },
  {
   "cell_type": "code",
   "execution_count": 25,
   "metadata": {},
   "outputs": [
    {
     "data": {
      "text/plain": [
       "[25, 49]"
      ]
     },
     "execution_count": 25,
     "metadata": {},
     "output_type": "execute_result"
    }
   ],
   "source": [
    "list1 = ['2', '5', '6', '7']\n",
    "[int(x) for x in list1]\n",
    "def g(x):\n",
    "  return (int(x) ** 2)\n",
    "\n",
    "[g(x) for x in list1]\n",
    "[g(x) for x in list1 if int(x) % 2 == 1]"
   ]
  },
  {
   "cell_type": "code",
   "execution_count": 28,
   "metadata": {},
   "outputs": [
    {
     "data": {
      "text/plain": [
       "[0, 1, 4]"
      ]
     },
     "execution_count": 28,
     "metadata": {},
     "output_type": "execute_result"
    }
   ],
   "source": [
    "[ord(x) for x in 'abc']\n",
    "[x ** .5 for x in (4, -1, 9) if x >= 0]\n",
    "[x ** 2 for x in range(3)]"
   ]
  },
  {
   "cell_type": "code",
   "execution_count": 30,
   "metadata": {},
   "outputs": [
    {
     "name": "stdout",
     "output_type": "stream",
     "text": [
      "65\n",
      "A\n"
     ]
    }
   ],
   "source": [
    "print(ord('A'))\n",
    "print(chr(65))"
   ]
  },
  {
   "attachments": {},
   "cell_type": "markdown",
   "metadata": {},
   "source": [
    "### Default Argument Values"
   ]
  },
  {
   "cell_type": "code",
   "execution_count": 31,
   "metadata": {},
   "outputs": [
    {
     "name": "stdout",
     "output_type": "stream",
     "text": [
      "Hello\n",
      "WorldWorldWorldWorldWorld\n"
     ]
    }
   ],
   "source": [
    "def main():\n",
    "  say('Hello')\n",
    "  say('World', 5)\n",
    "\n",
    "def say(message, times=1):\n",
    "  print(message * times)\n",
    "\n",
    "main()"
   ]
  },
  {
   "attachments": {},
   "cell_type": "markdown",
   "metadata": {},
   "source": [
    "### Keyword Arguments"
   ]
  },
  {
   "cell_type": "code",
   "execution_count": 32,
   "metadata": {},
   "outputs": [
    {
     "name": "stdout",
     "output_type": "stream",
     "text": [
      "a is 3 and b is 7 end c is 10\n",
      "a is 25 and b is 5 end c is 24\n",
      "a is 100 and b is 5 end c is 50\n"
     ]
    }
   ],
   "source": [
    "def main():\n",
    "  func(3, 7)\n",
    "  func(25, c=24)\n",
    "  func(c=50, a=100)\n",
    "\n",
    "def func(a, b=5, c=10):\n",
    "  print('a is', a, 'and b is', b, 'end c is', c)\n",
    "\n",
    "main()"
   ]
  },
  {
   "attachments": {},
   "cell_type": "markdown",
   "metadata": {},
   "source": [
    "### Lambda Expression"
   ]
  },
  {
   "cell_type": "code",
   "execution_count": 35,
   "metadata": {},
   "outputs": [
    {
     "name": "stdout",
     "output_type": "stream",
     "text": [
      "John Backus, James Gosling, Alan Kay, Dennis Ritchie\n"
     ]
    }
   ],
   "source": [
    "names = ['Dennis Ritchie', 'Alan Kay', 'John Backus', 'James Gosling']\n",
    "names.sort(key=lambda name: name.split()[-1])\n",
    "nameString = ', '.join(names)\n",
    "print(nameString)"
   ]
  }
 ],
 "metadata": {
  "kernelspec": {
   "display_name": "base",
   "language": "python",
   "name": "python3"
  },
  "language_info": {
   "codemirror_mode": {
    "name": "ipython",
    "version": 3
   },
   "file_extension": ".py",
   "mimetype": "text/x-python",
   "name": "python",
   "nbconvert_exporter": "python",
   "pygments_lexer": "ipython3",
   "version": "3.9.13"
  },
  "orig_nbformat": 4,
  "vscode": {
   "interpreter": {
    "hash": "f22877bf9927aba00f41d070cb31798bd248ba61643142f28b17eabbaebc8b47"
   }
  }
 },
 "nbformat": 4,
 "nbformat_minor": 2
}
